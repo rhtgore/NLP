{
 "cells": [
  {
   "cell_type": "code",
   "execution_count": 1,
   "id": "b78d76b5",
   "metadata": {},
   "outputs": [],
   "source": [
    "## Tokenization of paragraphs/sentences\n",
    "\n",
    "import nltk"
   ]
  },
  {
   "cell_type": "code",
   "execution_count": 2,
   "id": "511f0ab6",
   "metadata": {},
   "outputs": [],
   "source": [
    "paragraph = \"\"\"By 55,000 years ago, the first modern humans, \n",
    "            or Homo sapiens, had arrived on the Indian subcontinent from Africa, \n",
    "            where they had earlier evolved. The earliest known modern human \n",
    "            remains in South Asia date to about 30,000 years ago. After 6500 BCE, \n",
    "            evidence for domestication of food crops and animals, construction of permanent structures, \n",
    "            and storage of agricultural surplus appeared in Mehrgarh and other sites in what is now \n",
    "            Balochistan, Pakistan. These gradually developed into the Indus Valley civilisation, \n",
    "            the first urban culture in South Asia, which flourished during 2500–1900 BCE in what is now \n",
    "            Pakistan and western India. Centred around cities such as Mohenjo-daro, Harappa, Dholavira, \n",
    "            and Kalibangan, and relying on varied forms of subsistence, the civilisation engaged robustly \n",
    "            in crafts production and wide-ranging trade.\"\"\""
   ]
  },
  {
   "cell_type": "code",
   "execution_count": 3,
   "id": "3f5dadc8",
   "metadata": {},
   "outputs": [],
   "source": [
    "sentences = nltk.sent_tokenize(paragraph)"
   ]
  },
  {
   "cell_type": "code",
   "execution_count": 4,
   "id": "b41cce33",
   "metadata": {},
   "outputs": [
    {
     "data": {
      "text/plain": [
       "['By 55,000 years ago, the first modern humans, \\n            or Homo sapiens, had arrived on the Indian subcontinent from Africa, \\n            where they had earlier evolved.',\n",
       " 'The earliest known modern human \\n            remains in South Asia date to about 30,000 years ago.',\n",
       " 'After 6500 BCE, \\n            evidence for domestication of food crops and animals, construction of permanent structures, \\n            and storage of agricultural surplus appeared in Mehrgarh and other sites in what is now \\n            Balochistan, Pakistan.',\n",
       " 'These gradually developed into the Indus Valley civilisation, \\n            the first urban culture in South Asia, which flourished during 2500–1900 BCE in what is now \\n            Pakistan and western India.',\n",
       " 'Centred around cities such as Mohenjo-daro, Harappa, Dholavira, \\n            and Kalibangan, and relying on varied forms of subsistence, the civilisation engaged robustly \\n            in crafts production and wide-ranging trade.']"
      ]
     },
     "execution_count": 4,
     "metadata": {},
     "output_type": "execute_result"
    }
   ],
   "source": [
    "sentences"
   ]
  },
  {
   "cell_type": "code",
   "execution_count": 5,
   "id": "8a4641a1",
   "metadata": {},
   "outputs": [],
   "source": [
    "words = nltk.word_tokenize(paragraph)"
   ]
  },
  {
   "cell_type": "code",
   "execution_count": 7,
   "id": "61f38261",
   "metadata": {},
   "outputs": [
    {
     "data": {
      "text/plain": [
       "['By', '55,000', 'years', 'ago', ',']"
      ]
     },
     "execution_count": 7,
     "metadata": {},
     "output_type": "execute_result"
    }
   ],
   "source": [
    "words[:5]"
   ]
  },
  {
   "cell_type": "code",
   "execution_count": null,
   "id": "696e4c45",
   "metadata": {},
   "outputs": [],
   "source": []
  }
 ],
 "metadata": {
  "kernelspec": {
   "display_name": "Python 3",
   "language": "python",
   "name": "python3"
  },
  "language_info": {
   "codemirror_mode": {
    "name": "ipython",
    "version": 3
   },
   "file_extension": ".py",
   "mimetype": "text/x-python",
   "name": "python",
   "nbconvert_exporter": "python",
   "pygments_lexer": "ipython3",
   "version": "3.6.13"
  }
 },
 "nbformat": 4,
 "nbformat_minor": 5
}
