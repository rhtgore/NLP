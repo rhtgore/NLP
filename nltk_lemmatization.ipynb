{
 "cells": [
  {
   "cell_type": "code",
   "execution_count": 1,
   "id": "ecfc4dac",
   "metadata": {},
   "outputs": [],
   "source": [
    "import nltk"
   ]
  },
  {
   "cell_type": "code",
   "execution_count": 2,
   "id": "f241bb61",
   "metadata": {},
   "outputs": [],
   "source": [
    "from nltk.stem import WordNetLemmatizer\n",
    "from nltk.corpus import stopwords"
   ]
  },
  {
   "cell_type": "code",
   "execution_count": 3,
   "id": "b2c8a5b9",
   "metadata": {},
   "outputs": [],
   "source": [
    "paragraph = \"\"\"By 55,000 years ago, the first modern humans, \n",
    "            or Homo sapiens, had arrived on the Indian subcontinent from Africa, \n",
    "            where they had earlier evolved. The earliest known modern human \n",
    "            remains in South Asia date to about 30,000 years ago. After 6500 BCE, \n",
    "            evidence for domestication of food crops and animals, construction of permanent structures, \n",
    "            and storage of agricultural surplus appeared in Mehrgarh and other sites in what is now \n",
    "            Balochistan, Pakistan. These gradually developed into the Indus Valley civilisation, \n",
    "            the first urban culture in South Asia, which flourished during 2500–1900 BCE in what is now \n",
    "            Pakistan and western India. Centred around cities such as Mohenjo-daro, Harappa, Dholavira, \n",
    "            and Kalibangan, and relying on varied forms of subsistence, the civilisation engaged robustly \n",
    "            in crafts production and wide-ranging trade.\"\"\""
   ]
  },
  {
   "cell_type": "code",
   "execution_count": 4,
   "id": "65b8b776",
   "metadata": {},
   "outputs": [],
   "source": [
    "sentences = nltk.sent_tokenize(paragraph)"
   ]
  },
  {
   "cell_type": "code",
   "execution_count": 5,
   "id": "9039dc71",
   "metadata": {},
   "outputs": [
    {
     "data": {
      "text/plain": [
       "['By 55,000 years ago, the first modern humans, \\n            or Homo sapiens, had arrived on the Indian subcontinent from Africa, \\n            where they had earlier evolved.',\n",
       " 'The earliest known modern human \\n            remains in South Asia date to about 30,000 years ago.',\n",
       " 'After 6500 BCE, \\n            evidence for domestication of food crops and animals, construction of permanent structures, \\n            and storage of agricultural surplus appeared in Mehrgarh and other sites in what is now \\n            Balochistan, Pakistan.',\n",
       " 'These gradually developed into the Indus Valley civilisation, \\n            the first urban culture in South Asia, which flourished during 2500–1900 BCE in what is now \\n            Pakistan and western India.',\n",
       " 'Centred around cities such as Mohenjo-daro, Harappa, Dholavira, \\n            and Kalibangan, and relying on varied forms of subsistence, the civilisation engaged robustly \\n            in crafts production and wide-ranging trade.']"
      ]
     },
     "execution_count": 5,
     "metadata": {},
     "output_type": "execute_result"
    }
   ],
   "source": [
    "sentences"
   ]
  },
  {
   "cell_type": "code",
   "execution_count": 6,
   "id": "80bcbb3a",
   "metadata": {},
   "outputs": [],
   "source": [
    "lemmatizer = WordNetLemmatizer()"
   ]
  },
  {
   "cell_type": "code",
   "execution_count": 7,
   "id": "932168a8",
   "metadata": {},
   "outputs": [],
   "source": [
    "## Lemmatization\n",
    "\n",
    "for i in range(len(sentences)):\n",
    "    words = nltk.word_tokenize(paragraph)\n",
    "    words = [lemmatizer.lemmatize(word) for word in words if word not in set(stopwords.words('english'))]\n",
    "    sentences[i] = ' '.join(words)"
   ]
  },
  {
   "cell_type": "code",
   "execution_count": 8,
   "id": "f13dc205",
   "metadata": {},
   "outputs": [
    {
     "data": {
      "text/plain": [
       "['By 55,000 year ago , first modern human , Homo sapiens , arrived Indian subcontinent Africa , earlier evolved . The earliest known modern human remains South Asia date 30,000 year ago . After 6500 BCE , evidence domestication food crop animal , construction permanent structure , storage agricultural surplus appeared Mehrgarh site Balochistan , Pakistan . These gradually developed Indus Valley civilisation , first urban culture South Asia , flourished 2500–1900 BCE Pakistan western India . Centred around city Mohenjo-daro , Harappa , Dholavira , Kalibangan , relying varied form subsistence , civilisation engaged robustly craft production wide-ranging trade .',\n",
       " 'By 55,000 year ago , first modern human , Homo sapiens , arrived Indian subcontinent Africa , earlier evolved . The earliest known modern human remains South Asia date 30,000 year ago . After 6500 BCE , evidence domestication food crop animal , construction permanent structure , storage agricultural surplus appeared Mehrgarh site Balochistan , Pakistan . These gradually developed Indus Valley civilisation , first urban culture South Asia , flourished 2500–1900 BCE Pakistan western India . Centred around city Mohenjo-daro , Harappa , Dholavira , Kalibangan , relying varied form subsistence , civilisation engaged robustly craft production wide-ranging trade .',\n",
       " 'By 55,000 year ago , first modern human , Homo sapiens , arrived Indian subcontinent Africa , earlier evolved . The earliest known modern human remains South Asia date 30,000 year ago . After 6500 BCE , evidence domestication food crop animal , construction permanent structure , storage agricultural surplus appeared Mehrgarh site Balochistan , Pakistan . These gradually developed Indus Valley civilisation , first urban culture South Asia , flourished 2500–1900 BCE Pakistan western India . Centred around city Mohenjo-daro , Harappa , Dholavira , Kalibangan , relying varied form subsistence , civilisation engaged robustly craft production wide-ranging trade .',\n",
       " 'By 55,000 year ago , first modern human , Homo sapiens , arrived Indian subcontinent Africa , earlier evolved . The earliest known modern human remains South Asia date 30,000 year ago . After 6500 BCE , evidence domestication food crop animal , construction permanent structure , storage agricultural surplus appeared Mehrgarh site Balochistan , Pakistan . These gradually developed Indus Valley civilisation , first urban culture South Asia , flourished 2500–1900 BCE Pakistan western India . Centred around city Mohenjo-daro , Harappa , Dholavira , Kalibangan , relying varied form subsistence , civilisation engaged robustly craft production wide-ranging trade .',\n",
       " 'By 55,000 year ago , first modern human , Homo sapiens , arrived Indian subcontinent Africa , earlier evolved . The earliest known modern human remains South Asia date 30,000 year ago . After 6500 BCE , evidence domestication food crop animal , construction permanent structure , storage agricultural surplus appeared Mehrgarh site Balochistan , Pakistan . These gradually developed Indus Valley civilisation , first urban culture South Asia , flourished 2500–1900 BCE Pakistan western India . Centred around city Mohenjo-daro , Harappa , Dholavira , Kalibangan , relying varied form subsistence , civilisation engaged robustly craft production wide-ranging trade .']"
      ]
     },
     "execution_count": 8,
     "metadata": {},
     "output_type": "execute_result"
    }
   ],
   "source": [
    "sentences"
   ]
  },
  {
   "cell_type": "code",
   "execution_count": null,
   "id": "4d456e10",
   "metadata": {},
   "outputs": [],
   "source": []
  }
 ],
 "metadata": {
  "kernelspec": {
   "display_name": "Python 3",
   "language": "python",
   "name": "python3"
  },
  "language_info": {
   "codemirror_mode": {
    "name": "ipython",
    "version": 3
   },
   "file_extension": ".py",
   "mimetype": "text/x-python",
   "name": "python",
   "nbconvert_exporter": "python",
   "pygments_lexer": "ipython3",
   "version": "3.6.13"
  }
 },
 "nbformat": 4,
 "nbformat_minor": 5
}
