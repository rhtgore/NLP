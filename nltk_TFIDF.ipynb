{
 "cells": [
  {
   "cell_type": "code",
   "execution_count": 1,
   "id": "a6c49163",
   "metadata": {},
   "outputs": [],
   "source": [
    "import nltk"
   ]
  },
  {
   "cell_type": "code",
   "execution_count": 2,
   "id": "0c34753e",
   "metadata": {},
   "outputs": [],
   "source": [
    "paragraph = \"\"\"By 55,000 years ago, the first modern humans, \n",
    "            or Homo sapiens, had arrived on the Indian subcontinent from Africa, \n",
    "            where they had earlier evolved. The earliest known modern human \n",
    "            remains in South Asia date to about 30,000 years ago. After 6500 BCE, \n",
    "            evidence for domestication of food crops and animals, construction of permanent structures, \n",
    "            and storage of agricultural surplus appeared in Mehrgarh and other sites in what is now \n",
    "            Balochistan, Pakistan. These gradually developed into the Indus Valley civilisation, \n",
    "            the first urban culture in South Asia, which flourished during 2500–1900 BCE in what is now \n",
    "            Pakistan and western India. Centred around cities such as Mohenjo-daro, Harappa, Dholavira, \n",
    "            and Kalibangan, and relying on varied forms of subsistence, the civilisation engaged robustly \n",
    "            in crafts production and wide-ranging trade.\"\"\""
   ]
  },
  {
   "cell_type": "code",
   "execution_count": 6,
   "id": "804f3fbc",
   "metadata": {},
   "outputs": [],
   "source": [
    "from nltk.stem import WordNetLemmatizer\n",
    "from nltk.corpus import stopwords\n",
    "import re"
   ]
  },
  {
   "cell_type": "code",
   "execution_count": 7,
   "id": "9c3776ac",
   "metadata": {},
   "outputs": [],
   "source": [
    "sentences = nltk.sent_tokenize(paragraph)"
   ]
  },
  {
   "cell_type": "code",
   "execution_count": 8,
   "id": "2a5f5370",
   "metadata": {},
   "outputs": [],
   "source": [
    "lemmatizer = WordNetLemmatizer()"
   ]
  },
  {
   "cell_type": "code",
   "execution_count": 9,
   "id": "bf9f4457",
   "metadata": {},
   "outputs": [],
   "source": [
    "corpus = []\n",
    "for i in range(len(sentences)):\n",
    "    review = re.sub('[^a-zA-Z]', ' ', sentences[i])\n",
    "    review = review.lower()\n",
    "    review = review.split()\n",
    "    review = [lemmatizer.lemmatize(word) for word in review if word not in set(stopwords.words('english'))]\n",
    "    review = ' '.join(review)\n",
    "    corpus.append(review)"
   ]
  },
  {
   "cell_type": "code",
   "execution_count": 10,
   "id": "ab7bebf3",
   "metadata": {},
   "outputs": [
    {
     "data": {
      "text/plain": [
       "['year ago first modern human homo sapiens arrived indian subcontinent africa earlier evolved',\n",
       " 'earliest known modern human remains south asia date year ago',\n",
       " 'bce evidence domestication food crop animal construction permanent structure storage agricultural surplus appeared mehrgarh site balochistan pakistan',\n",
       " 'gradually developed indus valley civilisation first urban culture south asia flourished bce pakistan western india',\n",
       " 'centred around city mohenjo daro harappa dholavira kalibangan relying varied form subsistence civilisation engaged robustly craft production wide ranging trade']"
      ]
     },
     "execution_count": 10,
     "metadata": {},
     "output_type": "execute_result"
    }
   ],
   "source": [
    "corpus"
   ]
  },
  {
   "cell_type": "code",
   "execution_count": 11,
   "id": "cdcc12e9",
   "metadata": {},
   "outputs": [],
   "source": [
    "## Creating TFIDF models\n",
    "from sklearn.feature_extraction.text import TfidfVectorizer\n",
    "tfidf = TfidfVectorizer()\n",
    "X = tfidf.fit_transform(corpus).toarray()"
   ]
  },
  {
   "cell_type": "code",
   "execution_count": 12,
   "id": "f240580c",
   "metadata": {},
   "outputs": [
    {
     "data": {
      "text/plain": [
       "array([[0.29808172, 0.24049046, 0.        , 0.        , 0.        ,\n",
       "        0.        , 0.29808172, 0.        , 0.        , 0.        ,\n",
       "        0.        , 0.        , 0.        , 0.        , 0.        ,\n",
       "        0.        , 0.        , 0.        , 0.        , 0.        ,\n",
       "        0.        , 0.        , 0.29808172, 0.        , 0.        ,\n",
       "        0.        , 0.29808172, 0.24049046, 0.        , 0.        ,\n",
       "        0.        , 0.        , 0.        , 0.29808172, 0.24049046,\n",
       "        0.        , 0.29808172, 0.        , 0.        , 0.        ,\n",
       "        0.        , 0.24049046, 0.        , 0.        , 0.        ,\n",
       "        0.        , 0.        , 0.        , 0.        , 0.        ,\n",
       "        0.29808172, 0.        , 0.        , 0.        , 0.        ,\n",
       "        0.29808172, 0.        , 0.        , 0.        , 0.        ,\n",
       "        0.        , 0.        , 0.        , 0.        , 0.24049046],\n",
       "       [0.        , 0.28694451, 0.        , 0.        , 0.        ,\n",
       "        0.        , 0.        , 0.28694451, 0.        , 0.        ,\n",
       "        0.        , 0.        , 0.        , 0.        , 0.        ,\n",
       "        0.        , 0.        , 0.        , 0.35566033, 0.        ,\n",
       "        0.        , 0.        , 0.        , 0.35566033, 0.        ,\n",
       "        0.        , 0.        , 0.        , 0.        , 0.        ,\n",
       "        0.        , 0.        , 0.        , 0.        , 0.28694451,\n",
       "        0.        , 0.        , 0.        , 0.        , 0.35566033,\n",
       "        0.        , 0.28694451, 0.        , 0.        , 0.        ,\n",
       "        0.        , 0.        , 0.        , 0.35566033, 0.        ,\n",
       "        0.        , 0.        , 0.28694451, 0.        , 0.        ,\n",
       "        0.        , 0.        , 0.        , 0.        , 0.        ,\n",
       "        0.        , 0.        , 0.        , 0.        , 0.28694451],\n",
       "       [0.        , 0.        , 0.24767478, 0.24767478, 0.24767478,\n",
       "        0.        , 0.        , 0.        , 0.24767478, 0.19982246,\n",
       "        0.        , 0.        , 0.        , 0.24767478, 0.        ,\n",
       "        0.24767478, 0.        , 0.        , 0.        , 0.        ,\n",
       "        0.        , 0.24767478, 0.        , 0.        , 0.        ,\n",
       "        0.24767478, 0.        , 0.        , 0.        , 0.24767478,\n",
       "        0.        , 0.        , 0.        , 0.        , 0.        ,\n",
       "        0.        , 0.        , 0.        , 0.        , 0.        ,\n",
       "        0.24767478, 0.        , 0.        , 0.19982246, 0.24767478,\n",
       "        0.        , 0.        , 0.        , 0.        , 0.        ,\n",
       "        0.        , 0.24767478, 0.        , 0.24767478, 0.24767478,\n",
       "        0.        , 0.        , 0.24767478, 0.        , 0.        ,\n",
       "        0.        , 0.        , 0.        , 0.        , 0.        ],\n",
       "       [0.        , 0.        , 0.        , 0.        , 0.        ,\n",
       "        0.        , 0.        , 0.2245821 , 0.        , 0.2245821 ,\n",
       "        0.        , 0.        , 0.2245821 , 0.        , 0.        ,\n",
       "        0.        , 0.27836373, 0.        , 0.        , 0.27836373,\n",
       "        0.        , 0.        , 0.        , 0.        , 0.        ,\n",
       "        0.        , 0.        , 0.2245821 , 0.27836373, 0.        ,\n",
       "        0.        , 0.27836373, 0.        , 0.        , 0.        ,\n",
       "        0.27836373, 0.        , 0.27836373, 0.        , 0.        ,\n",
       "        0.        , 0.        , 0.        , 0.2245821 , 0.        ,\n",
       "        0.        , 0.        , 0.        , 0.        , 0.        ,\n",
       "        0.        , 0.        , 0.2245821 , 0.        , 0.        ,\n",
       "        0.        , 0.        , 0.        , 0.        , 0.27836373,\n",
       "        0.27836373, 0.        , 0.27836373, 0.        , 0.        ],\n",
       "       [0.        , 0.        , 0.        , 0.        , 0.        ,\n",
       "        0.22558416, 0.        , 0.        , 0.        , 0.        ,\n",
       "        0.22558416, 0.22558416, 0.18199988, 0.        , 0.22558416,\n",
       "        0.        , 0.        , 0.22558416, 0.        , 0.        ,\n",
       "        0.22558416, 0.        , 0.        , 0.        , 0.22558416,\n",
       "        0.        , 0.        , 0.        , 0.        , 0.        ,\n",
       "        0.22558416, 0.        , 0.22558416, 0.        , 0.        ,\n",
       "        0.        , 0.        , 0.        , 0.22558416, 0.        ,\n",
       "        0.        , 0.        , 0.22558416, 0.        , 0.        ,\n",
       "        0.22558416, 0.22558416, 0.22558416, 0.        , 0.22558416,\n",
       "        0.        , 0.        , 0.        , 0.        , 0.        ,\n",
       "        0.        , 0.22558416, 0.        , 0.22558416, 0.        ,\n",
       "        0.        , 0.22558416, 0.        , 0.22558416, 0.        ]])"
      ]
     },
     "execution_count": 12,
     "metadata": {},
     "output_type": "execute_result"
    }
   ],
   "source": [
    "X"
   ]
  },
  {
   "cell_type": "code",
   "execution_count": null,
   "id": "7b885c22",
   "metadata": {},
   "outputs": [],
   "source": []
  }
 ],
 "metadata": {
  "kernelspec": {
   "display_name": "Python 3",
   "language": "python",
   "name": "python3"
  },
  "language_info": {
   "codemirror_mode": {
    "name": "ipython",
    "version": 3
   },
   "file_extension": ".py",
   "mimetype": "text/x-python",
   "name": "python",
   "nbconvert_exporter": "python",
   "pygments_lexer": "ipython3",
   "version": "3.6.13"
  }
 },
 "nbformat": 4,
 "nbformat_minor": 5
}
