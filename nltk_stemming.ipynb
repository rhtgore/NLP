{
 "cells": [
  {
   "cell_type": "code",
   "execution_count": 1,
   "id": "83ec17a4",
   "metadata": {},
   "outputs": [],
   "source": [
    "import nltk"
   ]
  },
  {
   "cell_type": "code",
   "execution_count": 3,
   "id": "76220276",
   "metadata": {},
   "outputs": [],
   "source": [
    "from nltk.stem import PorterStemmer\n",
    "from nltk.corpus import stopwords"
   ]
  },
  {
   "cell_type": "code",
   "execution_count": 4,
   "id": "ef5b235a",
   "metadata": {},
   "outputs": [],
   "source": [
    "paragraph = \"\"\"By 55,000 years ago, the first modern humans, \n",
    "            or Homo sapiens, had arrived on the Indian subcontinent from Africa, \n",
    "            where they had earlier evolved. The earliest known modern human \n",
    "            remains in South Asia date to about 30,000 years ago. After 6500 BCE, \n",
    "            evidence for domestication of food crops and animals, construction of permanent structures, \n",
    "            and storage of agricultural surplus appeared in Mehrgarh and other sites in what is now \n",
    "            Balochistan, Pakistan. These gradually developed into the Indus Valley civilisation, \n",
    "            the first urban culture in South Asia, which flourished during 2500–1900 BCE in what is now \n",
    "            Pakistan and western India. Centred around cities such as Mohenjo-daro, Harappa, Dholavira, \n",
    "            and Kalibangan, and relying on varied forms of subsistence, the civilisation engaged robustly \n",
    "            in crafts production and wide-ranging trade.\"\"\""
   ]
  },
  {
   "cell_type": "code",
   "execution_count": 5,
   "id": "581c9ec0",
   "metadata": {},
   "outputs": [],
   "source": [
    "sentences = nltk.sent_tokenize(paragraph)"
   ]
  },
  {
   "cell_type": "code",
   "execution_count": 6,
   "id": "77e2e7d7",
   "metadata": {},
   "outputs": [
    {
     "data": {
      "text/plain": [
       "['By 55,000 years ago, the first modern humans, \\n            or Homo sapiens, had arrived on the Indian subcontinent from Africa, \\n            where they had earlier evolved.',\n",
       " 'The earliest known modern human \\n            remains in South Asia date to about 30,000 years ago.',\n",
       " 'After 6500 BCE, \\n            evidence for domestication of food crops and animals, construction of permanent structures, \\n            and storage of agricultural surplus appeared in Mehrgarh and other sites in what is now \\n            Balochistan, Pakistan.',\n",
       " 'These gradually developed into the Indus Valley civilisation, \\n            the first urban culture in South Asia, which flourished during 2500–1900 BCE in what is now \\n            Pakistan and western India.',\n",
       " 'Centred around cities such as Mohenjo-daro, Harappa, Dholavira, \\n            and Kalibangan, and relying on varied forms of subsistence, the civilisation engaged robustly \\n            in crafts production and wide-ranging trade.']"
      ]
     },
     "execution_count": 6,
     "metadata": {},
     "output_type": "execute_result"
    }
   ],
   "source": [
    "sentences"
   ]
  },
  {
   "cell_type": "code",
   "execution_count": 8,
   "id": "c4d7a188",
   "metadata": {},
   "outputs": [],
   "source": [
    "stemmer = PorterStemmer()"
   ]
  },
  {
   "cell_type": "code",
   "execution_count": 10,
   "id": "f49027c5",
   "metadata": {},
   "outputs": [],
   "source": [
    "## Stemming\n",
    "\n",
    "for i in range(len(sentences)):\n",
    "    words = nltk.word_tokenize(paragraph)\n",
    "    words = [stemmer.stem(word) for word in words if word not in set(stopwords.words('english'))]\n",
    "    sentences[i] = ' '.join(words)"
   ]
  },
  {
   "cell_type": "code",
   "execution_count": 18,
   "id": "0e333584",
   "metadata": {},
   "outputs": [
    {
     "data": {
      "text/plain": [
       "'by 55,000 year ago , first modern human , homo sapien , arriv indian subcontin africa , earlier evol'"
      ]
     },
     "execution_count": 18,
     "metadata": {},
     "output_type": "execute_result"
    }
   ],
   "source": [
    "sentences[0][:100]"
   ]
  },
  {
   "cell_type": "code",
   "execution_count": null,
   "id": "67463c79",
   "metadata": {},
   "outputs": [],
   "source": []
  }
 ],
 "metadata": {
  "kernelspec": {
   "display_name": "Python 3",
   "language": "python",
   "name": "python3"
  },
  "language_info": {
   "codemirror_mode": {
    "name": "ipython",
    "version": 3
   },
   "file_extension": ".py",
   "mimetype": "text/x-python",
   "name": "python",
   "nbconvert_exporter": "python",
   "pygments_lexer": "ipython3",
   "version": "3.6.13"
  }
 },
 "nbformat": 4,
 "nbformat_minor": 5
}
