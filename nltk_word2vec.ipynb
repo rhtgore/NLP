{
 "cells": [
  {
   "cell_type": "code",
   "execution_count": 6,
   "id": "4a0cac41",
   "metadata": {},
   "outputs": [],
   "source": [
    "import nltk\n",
    "import re"
   ]
  },
  {
   "cell_type": "code",
   "execution_count": 7,
   "id": "119c94db",
   "metadata": {},
   "outputs": [],
   "source": [
    "from gensim.models import Word2Vec"
   ]
  },
  {
   "cell_type": "code",
   "execution_count": 18,
   "id": "a48db81a",
   "metadata": {},
   "outputs": [],
   "source": [
    "paragraph = \"\"\"By 55,000 years ago, the first modern humans, \n",
    "            or Homo sapiens, had arrived on the Indian subcontinent from Africa, \n",
    "            where they had earlier evolved. The earliest known modern human \n",
    "            remains in South Asia date to about 30,000 years ago. After 6500 BCE, \n",
    "            evidence for domestication of food crops and animals, construction of permanent structures, \n",
    "            and storage of agricultural surplus appeared in Mehrgarh and other sites in what is now \n",
    "            Balochistan, Pakistan. These gradually developed into the Indus Valley civilisation, \n",
    "            the first urban culture in South Asia, which flourished during 2500–1900 BCE in what is now \n",
    "            Pakistan and western India. Centred around cities such as Mohenjo-daro, Harappa, Dholavira, \n",
    "            and Kalibangan, and relying on varied forms of subsistence, the civilisation engaged robustly \n",
    "            in crafts production and wide-ranging trade.\"\"\""
   ]
  },
  {
   "cell_type": "code",
   "execution_count": 19,
   "id": "e11aa370",
   "metadata": {},
   "outputs": [],
   "source": [
    "## Preprocessing the data\n",
    "text = re.sub(r'\\[[0-9]*\\]', ' ', paragraph)\n",
    "text = re.sub(r'\\s+', ' ', text)\n",
    "text = text.lower()\n",
    "text = re.sub(r'\\d', ' ', text)\n",
    "text = re.sub(r'\\s+', ' ', text)"
   ]
  },
  {
   "cell_type": "code",
   "execution_count": 20,
   "id": "e3b3f2cc",
   "metadata": {},
   "outputs": [
    {
     "data": {
      "text/plain": [
       "'by , years ago, the first modern humans, or homo sapiens, had arrived on the indian subcontinent from africa, where they had earlier evolved. the earliest known modern human remains in south asia date to about , years ago. after bce, evidence for domestication of food crops and animals, construction of permanent structures, and storage of agricultural surplus appeared in mehrgarh and other sites in what is now balochistan, pakistan. these gradually developed into the indus valley civilisation, the first urban culture in south asia, which flourished during – bce in what is now pakistan and western india. centred around cities such as mohenjo-daro, harappa, dholavira, and kalibangan, and relying on varied forms of subsistence, the civilisation engaged robustly in crafts production and wide-ranging trade.'"
      ]
     },
     "execution_count": 20,
     "metadata": {},
     "output_type": "execute_result"
    }
   ],
   "source": [
    "text"
   ]
  },
  {
   "cell_type": "code",
   "execution_count": 21,
   "id": "5e1b6c30",
   "metadata": {},
   "outputs": [],
   "source": [
    "sentences = nltk.sent_tokenize(text)"
   ]
  },
  {
   "cell_type": "code",
   "execution_count": 22,
   "id": "e6578ae7",
   "metadata": {},
   "outputs": [
    {
     "data": {
      "text/plain": [
       "['by , years ago, the first modern humans, or homo sapiens, had arrived on the indian subcontinent from africa, where they had earlier evolved.',\n",
       " 'the earliest known modern human remains in south asia date to about , years ago.',\n",
       " 'after bce, evidence for domestication of food crops and animals, construction of permanent structures, and storage of agricultural surplus appeared in mehrgarh and other sites in what is now balochistan, pakistan.',\n",
       " 'these gradually developed into the indus valley civilisation, the first urban culture in south asia, which flourished during – bce in what is now pakistan and western india.',\n",
       " 'centred around cities such as mohenjo-daro, harappa, dholavira, and kalibangan, and relying on varied forms of subsistence, the civilisation engaged robustly in crafts production and wide-ranging trade.']"
      ]
     },
     "execution_count": 22,
     "metadata": {},
     "output_type": "execute_result"
    }
   ],
   "source": [
    "sentences"
   ]
  },
  {
   "cell_type": "code",
   "execution_count": 23,
   "id": "b97c7061",
   "metadata": {},
   "outputs": [],
   "source": [
    "from nltk.corpus import stopwords"
   ]
  },
  {
   "cell_type": "code",
   "execution_count": 24,
   "id": "6746eb68",
   "metadata": {},
   "outputs": [],
   "source": [
    "sentences = [nltk.word_tokenize(sentence) for sentence in sentences]"
   ]
  },
  {
   "cell_type": "code",
   "execution_count": 28,
   "id": "903c74b6",
   "metadata": {},
   "outputs": [
    {
     "data": {
      "text/plain": [
       "[',',\n",
       " 'years',\n",
       " 'ago',\n",
       " ',',\n",
       " 'first',\n",
       " 'modern',\n",
       " 'humans',\n",
       " ',',\n",
       " 'homo',\n",
       " 'sapiens',\n",
       " ',',\n",
       " 'arrived',\n",
       " 'indian',\n",
       " 'subcontinent',\n",
       " 'africa',\n",
       " ',',\n",
       " 'earlier',\n",
       " 'evolved',\n",
       " '.']"
      ]
     },
     "execution_count": 28,
     "metadata": {},
     "output_type": "execute_result"
    }
   ],
   "source": [
    "sentences[0]"
   ]
  },
  {
   "cell_type": "code",
   "execution_count": 26,
   "id": "0466f765",
   "metadata": {},
   "outputs": [],
   "source": [
    "for i in range(len(sentences)):\n",
    "    sentences[i] = [word for word in sentences[i] if word not in set(stopwords.words('english'))]"
   ]
  },
  {
   "cell_type": "code",
   "execution_count": 29,
   "id": "df6f0642",
   "metadata": {},
   "outputs": [
    {
     "data": {
      "text/plain": [
       "[',',\n",
       " 'years',\n",
       " 'ago',\n",
       " ',',\n",
       " 'first',\n",
       " 'modern',\n",
       " 'humans',\n",
       " ',',\n",
       " 'homo',\n",
       " 'sapiens',\n",
       " ',',\n",
       " 'arrived',\n",
       " 'indian',\n",
       " 'subcontinent',\n",
       " 'africa',\n",
       " ',',\n",
       " 'earlier',\n",
       " 'evolved',\n",
       " '.']"
      ]
     },
     "execution_count": 29,
     "metadata": {},
     "output_type": "execute_result"
    }
   ],
   "source": [
    "sentences[0]"
   ]
  },
  {
   "cell_type": "code",
   "execution_count": 30,
   "id": "2bc6a1d6",
   "metadata": {},
   "outputs": [],
   "source": [
    "## word2vec model\n",
    "model = Word2Vec(sentences, min_count=1)"
   ]
  },
  {
   "cell_type": "code",
   "execution_count": 37,
   "id": "94d6b8a2",
   "metadata": {},
   "outputs": [
    {
     "data": {
      "text/plain": [
       "array([ 6.4154314e-03, -8.9511415e-03, -7.3454739e-03, -1.7511440e-03,\n",
       "        1.6980076e-03, -1.0342216e-03, -5.2042748e-03,  6.5792515e-03,\n",
       "        8.7828115e-03, -7.4120974e-03,  9.8055648e-03,  7.3666479e-03,\n",
       "       -7.4607255e-03, -1.8999577e-03,  4.2520380e-03,  7.0596053e-03,\n",
       "       -3.6636877e-03, -6.9730831e-03,  4.7248341e-03, -9.0386085e-03,\n",
       "       -5.8503030e-03, -1.2834811e-03,  5.4809167e-03, -5.6869411e-03,\n",
       "        4.7847843e-03, -4.3494703e-04,  2.6672625e-03,  6.4039277e-03,\n",
       "        1.4176298e-03,  7.7085732e-03, -3.2240152e-04, -8.2637044e-03,\n",
       "        9.1784978e-03, -4.8582028e-03,  4.7219060e-03, -3.9027834e-03,\n",
       "       -7.3295189e-03, -6.5126489e-03,  4.6773339e-03, -6.5943244e-04,\n",
       "        1.4602685e-03, -8.9282803e-03, -5.1465537e-03, -6.0544228e-03,\n",
       "        8.4127877e-03, -8.6974334e-03,  5.0248434e-03, -8.6135149e-04,\n",
       "        1.8937587e-04,  8.7997578e-03, -3.5854387e-03, -6.9373394e-03,\n",
       "        7.6357840e-04,  7.7428343e-03,  9.1208629e-03, -3.6847114e-03,\n",
       "        2.7328061e-03,  4.9426104e-03, -5.2920487e-03,  6.8525337e-03,\n",
       "       -6.4529707e-03,  2.1008421e-03,  4.5872568e-03,  4.3851114e-03,\n",
       "       -4.6662856e-03,  2.6424218e-03,  7.3099639e-03,  8.6116884e-03,\n",
       "       -9.5125316e-03,  5.5747461e-03,  4.9680639e-03, -1.5947580e-03,\n",
       "        9.1868825e-03, -4.1810106e-03, -1.7487240e-03, -6.8633081e-03,\n",
       "       -3.7766767e-03,  2.4267434e-04, -3.2715343e-03, -5.4172636e-03,\n",
       "        6.5688728e-03, -5.3028557e-03, -6.3216304e-03,  7.6409671e-03,\n",
       "        9.6511841e-03,  3.9949180e-03,  2.6326179e-05,  7.8929187e-04,\n",
       "       -9.6155406e-04,  6.8626525e-03, -6.2529948e-03,  5.0760986e-04,\n",
       "        4.2921496e-03, -2.1114135e-03,  8.9388131e-04,  3.7101412e-03,\n",
       "        9.7100521e-03,  2.1757602e-03,  9.5001627e-03, -5.8298446e-03],\n",
       "      dtype=float32)"
      ]
     },
     "execution_count": 37,
     "metadata": {},
     "output_type": "execute_result"
    }
   ],
   "source": [
    "model.wv['humans']"
   ]
  },
  {
   "cell_type": "code",
   "execution_count": 38,
   "id": "e0ef3bee",
   "metadata": {},
   "outputs": [
    {
     "data": {
      "text/plain": [
       "[('earlier', 0.2164001762866974),\n",
       " ('appeared', 0.19239047169685364),\n",
       " ('earliest', 0.15678493678569794),\n",
       " ('animals', 0.14957544207572937),\n",
       " ('india', 0.13924074172973633),\n",
       " ('centred', 0.11953674256801605),\n",
       " ('kalibangan', 0.1125805452466011),\n",
       " ('sapiens', 0.10303725302219391),\n",
       " ('bce', 0.0991123765707016),\n",
       " ('asia', 0.09520097821950912)]"
      ]
     },
     "execution_count": 38,
     "metadata": {},
     "output_type": "execute_result"
    }
   ],
   "source": [
    "model.wv.most_similar('human')"
   ]
  },
  {
   "cell_type": "code",
   "execution_count": null,
   "id": "d9849934",
   "metadata": {},
   "outputs": [],
   "source": []
  }
 ],
 "metadata": {
  "kernelspec": {
   "display_name": "Python 3",
   "language": "python",
   "name": "python3"
  },
  "language_info": {
   "codemirror_mode": {
    "name": "ipython",
    "version": 3
   },
   "file_extension": ".py",
   "mimetype": "text/x-python",
   "name": "python",
   "nbconvert_exporter": "python",
   "pygments_lexer": "ipython3",
   "version": "3.6.13"
  }
 },
 "nbformat": 4,
 "nbformat_minor": 5
}
